{
 "cells": [
  {
   "cell_type": "markdown",
   "id": "067343f9-7acf-4a74-ab00-52ad23a2e35f",
   "metadata": {},
   "source": [
    "1.\tWhat is Python, and why is it popular?\r\n",
    "Ans: Python is a powerful, high-level programming language. Basically, it is an interpreted language which executes code line by line. It is a scripting language. It also follows the object-oriented programming paradigm. \r\n",
    "Example: a= #variable initialization1\r\n",
    "\r\n",
    "Python is very popular language due to its simplicity, extensive features, versatile, large community, easy to learn, lots of library etc. Python is extensively use in the field of data science, artificial intelligence field. Coding in python is also very sy.\r\n"
   ]
  },
  {
   "cell_type": "code",
   "execution_count": null,
   "id": "83bcfa9c-e442-4a6b-8c63-0e71d76c1278",
   "metadata": {},
   "outputs": [],
   "source": [
    "2.\tWhat is an interpreter in Python?\n",
    "Ans: An Interpreter translate high level language code to machine level language line by line as code executed. \n",
    "If any error found it will not execute. Computer translate the code into computer understandable form.\n",
    "Ex.\n",
    "tuple=(23,45,67,89)\n",
    "print(tuple)\n",
    "print(tuple[0])\n",
    "tuple[0]=55        #assignment not allowed, error will appear"
   ]
  },
  {
   "cell_type": "code",
   "execution_count": null,
   "id": "0d97b555-6d55-41a9-8a1e-b2bdf7ed6359",
   "metadata": {},
   "outputs": [],
   "source": [
    "3.\tWhat are pre-defined keyword in Python?\n",
    "Ans: The pre-defined keyword in Python as follows : False, None, True, and, as, assert, async, await, break, class, continue, def, del, \n",
    "elif, else, except, finally, for, from, global, if, import, in, is, lambda, nonlocal, not, or, pass, raise, return, try, while, with, yield."
   ]
  },
  {
   "cell_type": "code",
   "execution_count": null,
   "id": "670f60af-ada9-4739-aa69-e8d5c6fdfbd1",
   "metadata": {},
   "outputs": [],
   "source": [
    "4.\tCan keywords be used as variable names?\n",
    "Ans: It is not recommended to use keyword as variable name. Keywords are reserved word for the particular programming language as like python.\n",
    "Like print, range, for, which etc."
   ]
  },
  {
   "cell_type": "code",
   "execution_count": null,
   "id": "729e0f01-ea9a-4dd0-8b7d-992ad166fa00",
   "metadata": {},
   "outputs": [],
   "source": [
    "5.\tWhat is mutability in Python?\n",
    "Ans: In python few objects which can be changed after it created is termed as mutable. e.g Lists, Dictionaries, Sets, User defined classes.\n",
    "Ex.\n",
    "Book_list=[“Math”,”Science”,”English”]\n",
    "Book_list[0]=”History”\n",
    "print(Book_list)"
   ]
  },
  {
   "cell_type": "code",
   "execution_count": null,
   "id": "560ec6c9-96e9-470d-bfa4-787c4cfc94b1",
   "metadata": {},
   "outputs": [],
   "source": [
    "6.\tWhy are lists mutable, but tuples are immutable?\n",
    "Ans: Lists are mutable because after creating a list, element of list can be changed so list are mutable. On other hand tuples element are \n",
    "unchangeable that is why tuples are immutable.\n",
    "Ex.\n",
    "list=['math','science']\n",
    "list.append('geograph')\n",
    "print(list)\n",
    "list[0]='fsad'      # list element changed\n",
    "print(list)\n",
    "tuple=(23,45,67,89)\n",
    "print(tuple[0])\n",
    "tuple[0]=55        #not allowed to change element\n"
   ]
  },
  {
   "cell_type": "code",
   "execution_count": null,
   "id": "87547fd6-1b70-4f01-91ea-8ff18d66d7ec",
   "metadata": {},
   "outputs": [],
   "source": [
    "7.\tWhat is the difference between “==” and “is” operators in Python?\n",
    "Ans: \"==\" is a comparison operator and \"is\" is identity operator. \"==\" is test whether reference object has same value or not,\n",
    "\"is\" operator check for identity, return True or False\n",
    "ex: "
   ]
  },
  {
   "cell_type": "markdown",
   "id": "23c568f9-3774-459c-bee6-fe3dfd8db11a",
   "metadata": {},
   "source": [
    "8.\tWhat are logical operators in Python?\n",
    "Ans: AND, OR and NOT are logical operators in Python.\n",
    "Ex. If a and c:            #use of and operator\n",
    "\tprint(“Both cases are true”)"
   ]
  },
  {
   "cell_type": "markdown",
   "id": "7c42167b-c6aa-4ef6-8658-df1a77f331be",
   "metadata": {},
   "source": [
    "9.\tWhat is type casting in Python?\n",
    "Ans: Type casting is the process of converting one data type to another data type. In Python there are two type of type casting implicit \n",
    "and explicit type casting.\n",
    "Ex.\r\n",
    "number=10\r\n",
    "print(type(number))\r\n",
    "number=float(numb    #Converting int to float data typeer)\r\n",
    "print(type(number))\r\n"
   ]
  },
  {
   "cell_type": "code",
   "execution_count": null,
   "id": "ea35fe0c-00c5-4c4b-bf79-6ac0f1e5034c",
   "metadata": {},
   "outputs": [],
   "source": [
    "10.\tWhat is the difference between implicit and explicit type casting?\n",
    "Ans:\n",
    "Implicit type casting occurs when Python automatically convert one data type to another data type without explicit instruction of programmer.\n",
    "Explicit type casting occurs in Python when programmer instruct computer to convert data type with predefined functions like int(), float(),\n",
    "str() etc.\n",
    "Ex.\n",
    "a=10\n",
    "b=14.5\n",
    "c=a+b\n",
    "print(c)     # sum of a and b automatically converted to float i.e. implicit type casting\n",
    "num=”235”\n",
    "num=int(num)  # explicit type casting\n"
   ]
  },
  {
   "cell_type": "code",
   "execution_count": null,
   "id": "2effe084-0770-4d3d-a0c6-1978b16c6243",
   "metadata": {},
   "outputs": [],
   "source": [
    "11.\tWhat is the purpose of conditional statements in Python?\n",
    "Ans: Conditional statements are the statements that instruct computer to be executed certain code based one condition. \n",
    "Ex. a=10\n",
    "b=20\n",
    "If   a>b:\n",
    "     print(“a is greater than b”)\n"
   ]
  },
  {
   "cell_type": "code",
   "execution_count": null,
   "id": "6597823e-6346-46a8-9887-6e85a30ae4c0",
   "metadata": {},
   "outputs": [],
   "source": [
    "12.\tHow does the elif statement work?\n",
    "Ans: elif is keyword that used as conditional statement in Python. It is a short form else if. Then if condition not satisfied and have to check\n",
    "    for another condition then elif is used.\n",
    "Ex:\n",
    "If a==b:\n",
    "\tPrint(“A and B is equal”)\n",
    "Elif a>b:\n",
    "\tPrint(“a is greater than b”\n",
    "Else:\n",
    "\tPrint(“ b is greater than a”)\n"
   ]
  },
  {
   "cell_type": "markdown",
   "id": "e53d68c5-ccf8-4106-b6c6-c3cfcae6e471",
   "metadata": {},
   "source": [
    "13.\tWhat is the difference between for and while loops?\n",
    "Ans: for loop is when we are know beforehand about  number of iterative step to be performed and while is used when code block executed till\n",
    "condition satisfied. While loop can be executed as long as condition is true. For loop used for iterative over sequence like a list, a tuple, \n",
    "a dictionary etc. Index variable not need to set beforhand for 'for' loop.\n",
    "Ex. #print all the element from 1 to 20\n",
    "for i in range(1,21):\n",
    "       Print(i)\n"
   ]
  },
  {
   "cell_type": "code",
   "execution_count": null,
   "id": "bcc0920e-8f40-4660-95aa-11590accfef6",
   "metadata": {},
   "outputs": [],
   "source": [
    "14.\tDescribe a scenario where a while loop is more suitable than a for loop.\n",
    "Ans: while loop is better choice when we are not sure about the number of iterative statements to be executed, in this condition while loop is more \n",
    "suitable than a for loop.\n",
    "Ex. # display even numbers in reverse order 100 to 2\n",
    "no=100\n",
    "while no!=0:\n",
    "    if no%2==0:\n",
    "        print(no)\n",
    "    no=no-1"
   ]
  },
  {
   "cell_type": "code",
   "execution_count": null,
   "id": "5c1ff918-dde0-4a88-84a4-39b47940d960",
   "metadata": {},
   "outputs": [],
   "source": [
    "Practical Questions"
   ]
  },
  {
   "cell_type": "code",
   "execution_count": 1,
   "id": "032275d4-89e6-4ed8-ba1f-76c991e56f88",
   "metadata": {},
   "outputs": [
    {
     "name": "stdout",
     "output_type": "stream",
     "text": [
      "Hello World\n"
     ]
    }
   ],
   "source": [
    "# 1. Write a python program to print \"Hello World!\"\n",
    "print(\"Hello World\")"
   ]
  },
  {
   "cell_type": "code",
   "execution_count": 2,
   "id": "23b22436-3cf2-4eb4-9a87-9ebb13ac1c53",
   "metadata": {},
   "outputs": [
    {
     "name": "stdout",
     "output_type": "stream",
     "text": [
      "Name: Faruk\n",
      "Age: 30\n"
     ]
    }
   ],
   "source": [
    "# 2. Write a python program that displays your name and age\n",
    "name=\"Faruk\"\n",
    "age=30\n",
    "print(\"Name:\",name)\n",
    "print(\"Age:\",age)"
   ]
  },
  {
   "cell_type": "code",
   "execution_count": 3,
   "id": "f660cb32-498a-4d17-a62d-2d6d70bfe3a0",
   "metadata": {},
   "outputs": [
    {
     "name": "stdout",
     "output_type": "stream",
     "text": [
      "['False', 'None', 'True', 'and', 'as', 'assert', 'async', 'await', 'break', 'class', 'continue', 'def', 'del', 'elif', 'else', 'except', 'finally', 'for', 'from', 'global', 'if', 'import', 'in', 'is', 'lambda', 'nonlocal', 'not', 'or', 'pass', 'raise', 'return', 'try', 'while', 'with', 'yield']\n"
     ]
    }
   ],
   "source": [
    "# 3. Write code to print all pre-defined keywords in Python using the keyword library\n",
    "import keyword\n",
    "print(keyword.kwlist)"
   ]
  },
  {
   "cell_type": "code",
   "execution_count": 53,
   "id": "ba78495a-c125-4d03-8b8f-0d2103037409",
   "metadata": {},
   "outputs": [
    {
     "name": "stdout",
     "output_type": "stream",
     "text": [
      "elif is a keyword\n"
     ]
    }
   ],
   "source": [
    "# 4. Write a program that checks if a given word is a Python keyword.\n",
    "import keyword\n",
    "word='elif'\n",
    "if keyword.iskeyword(word):\n",
    "    print(word +\" is a keyword\")\n",
    "else: \n",
    "    print(word +\" is not  a keyword\")"
   ]
  },
  {
   "cell_type": "code",
   "execution_count": 59,
   "id": "3fca116f-c9fd-49af-9c6d-ed2ffb106bd4",
   "metadata": {},
   "outputs": [
    {
     "name": "stdout",
     "output_type": "stream",
     "text": [
      "['SBI', 'UBI', 'PNB', 'HDFC']\n",
      "['SBI', 'UBI', 'PNB', 'HDFC', 'Yes Bank']\n",
      "(20, 30, 56, 78)\n"
     ]
    }
   ],
   "source": [
    "# 5. Create a list and tuple in Python, and demonstrate how attempting to change an element works differently for each\n",
    "\n",
    "bank_list=[\"SBI\",\"UBI\",\"PNB\",\"HDFC\"]\n",
    "print(bank_list)\n",
    "bank_list.append(\"Yes Bank\")\n",
    "print(bank_list)\n",
    "number_tuple=(20,30,56,78)\n",
    "print(number_tuple)"
   ]
  },
  {
   "cell_type": "code",
   "execution_count": 1,
   "id": "a8007187-300c-402f-a2c4-b80d51fbd4b0",
   "metadata": {},
   "outputs": [
    {
     "name": "stdout",
     "output_type": "stream",
     "text": [
      "['arun', 'madhu', 'jadu', 'pradip']\n"
     ]
    },
    {
     "ename": "TypeError",
     "evalue": "'tuple' object does not support item assignment",
     "output_type": "error",
     "traceback": [
      "\u001b[1;31m---------------------------------------------------------------------------\u001b[0m",
      "\u001b[1;31mTypeError\u001b[0m                                 Traceback (most recent call last)",
      "Cell \u001b[1;32mIn[1], line 15\u001b[0m\n\u001b[0;32m     13\u001b[0m \u001b[38;5;28;01mdef\u001b[39;00m \u001b[38;5;21mtupele\u001b[39m(position):\n\u001b[0;32m     14\u001b[0m     \u001b[38;5;28mtuple\u001b[39m[position]\u001b[38;5;241m=\u001b[39m\u001b[38;5;241m103\u001b[39m    \n\u001b[1;32m---> 15\u001b[0m tupele(position)          \u001b[38;5;66;03m# 'tuple' object does not support item assignment\u001b[39;00m\n\u001b[0;32m     16\u001b[0m \u001b[38;5;28mprint\u001b[39m(\u001b[38;5;28mtuple\u001b[39m)\n",
      "Cell \u001b[1;32mIn[1], line 14\u001b[0m, in \u001b[0;36mtupele\u001b[1;34m(position)\u001b[0m\n\u001b[0;32m     13\u001b[0m \u001b[38;5;28;01mdef\u001b[39;00m \u001b[38;5;21mtupele\u001b[39m(position):\n\u001b[1;32m---> 14\u001b[0m     \u001b[38;5;28mtuple\u001b[39m[position]\u001b[38;5;241m=\u001b[39m\u001b[38;5;241m103\u001b[39m\n",
      "\u001b[1;31mTypeError\u001b[0m: 'tuple' object does not support item assignment"
     ]
    }
   ],
   "source": [
    "# 6. write a function to demonstrate the behaviour of mutable and immutable arguments\n",
    "\n",
    "list=['arun','madhu','jadu']\n",
    "p='pradip'\n",
    "def listel(p):\n",
    "    list.append(p)    #passed value appended to the list\n",
    "listel(p)\n",
    "print(list)\n",
    "\n",
    "tuple=(23,90,100,234)\n",
    "position=0\n",
    "\n",
    "def tupele(position):\n",
    "    tuple[position]=103    \n",
    "tupele(position)          # 'tuple' object does not support item assignment\n",
    "print(tuple)"
   ]
  },
  {
   "cell_type": "code",
   "execution_count": 2,
   "id": "c703ebcb-a118-49f6-ba4b-c8b62ab2f2ed",
   "metadata": {},
   "outputs": [
    {
     "name": "stdout",
     "output_type": "stream",
     "text": [
      "['trun', 'sadhu', 'anil', 'deepak']\n"
     ]
    },
    {
     "ename": "TypeError",
     "evalue": "'tuple' object does not support item assignment",
     "output_type": "error",
     "traceback": [
      "\u001b[1;31m---------------------------------------------------------------------------\u001b[0m",
      "\u001b[1;31mTypeError\u001b[0m                                 Traceback (most recent call last)",
      "Cell \u001b[1;32mIn[2], line 15\u001b[0m\n\u001b[0;32m     13\u001b[0m \u001b[38;5;28;01mdef\u001b[39;00m \u001b[38;5;21mtupele\u001b[39m(position):\n\u001b[0;32m     14\u001b[0m     \u001b[38;5;28mtuple\u001b[39m[position]\u001b[38;5;241m=\u001b[39m\u001b[38;5;241m199\u001b[39m    \n\u001b[1;32m---> 15\u001b[0m tupele(position)          \u001b[38;5;66;03m# 'tuple' object does not support item assignment\u001b[39;00m\n\u001b[0;32m     16\u001b[0m \u001b[38;5;28mprint\u001b[39m(\u001b[38;5;28mtuple\u001b[39m)\n",
      "Cell \u001b[1;32mIn[2], line 14\u001b[0m, in \u001b[0;36mtupele\u001b[1;34m(position)\u001b[0m\n\u001b[0;32m     13\u001b[0m \u001b[38;5;28;01mdef\u001b[39;00m \u001b[38;5;21mtupele\u001b[39m(position):\n\u001b[1;32m---> 14\u001b[0m     \u001b[38;5;28mtuple\u001b[39m[position]\u001b[38;5;241m=\u001b[39m\u001b[38;5;241m199\u001b[39m\n",
      "\u001b[1;31mTypeError\u001b[0m: 'tuple' object does not support item assignment"
     ]
    }
   ],
   "source": [
    "# 7. write a function to demonstrate the behaviour of mutable and immutable arguments\n",
    "\n",
    "list=['trun','sadhu','anil']\n",
    "p='deepak'\n",
    "def listel(p):\n",
    "    list.append(p)    #passed value appended to the list\n",
    "listel(p)\n",
    "print(list)\n",
    "\n",
    "tuple=(56,90,88,234)\n",
    "position=0\n",
    "\n",
    "def tupele(position):\n",
    "    tuple[position]=199    \n",
    "tupele(position)          # 'tuple' object does not support item assignment\n",
    "print(tuple)"
   ]
  },
  {
   "cell_type": "code",
   "execution_count": 25,
   "id": "e16e04e4-86dd-42a9-87fa-63a6793ec697",
   "metadata": {},
   "outputs": [
    {
     "name": "stdout",
     "output_type": "stream",
     "text": [
      "Temperature is under control\n"
     ]
    }
   ],
   "source": [
    "# 8. Write a program to demonstrate the use of logical operators\n",
    "\n",
    "temp=25\n",
    "\n",
    "if temp<30 and temp>15:\n",
    "     print(\"Temperature is under control\")\n",
    "elif temp<10 or temp<0:\n",
    "     print(\"Very cold day\")\n",
    "else:\n",
    "     print(\"No comment\")\n"
   ]
  },
  {
   "cell_type": "code",
   "execution_count": 7,
   "id": "78c91181-cfd1-416a-977b-730b89344495",
   "metadata": {},
   "outputs": [
    {
     "name": "stdin",
     "output_type": "stream",
     "text": [
      "Enter a string 2\n"
     ]
    },
    {
     "name": "stdout",
     "output_type": "stream",
     "text": [
      "<class 'int'>\n",
      "Entered value: 2.0\n",
      "<class 'float'>\n",
      "<class 'bool'>\n"
     ]
    }
   ],
   "source": [
    "# 9. Write a Python program to convert user input from string to integer, float and boolean type\n",
    "str=input(\"Enter a string\")   #suppose enter 2\n",
    "str=int(str)                  #converted to integer\n",
    "print(type(str))\n",
    "str=float(str)                #converted to integer\n",
    "print(\"Entered value:\",str)\n",
    "print(type(str))\n",
    "str2=\"True\"\n",
    "str2=eval(str2)               #converted to integer\n",
    "print(type(str2))\n"
   ]
  },
  {
   "cell_type": "code",
   "execution_count": null,
   "id": "7b4da05c-b41d-4fc5-b643-13664bc1fc5f",
   "metadata": {},
   "outputs": [],
   "source": []
  },
  {
   "cell_type": "code",
   "execution_count": 54,
   "id": "03ec5925-8609-4249-a57b-6bb337233447",
   "metadata": {},
   "outputs": [
    {
     "name": "stdout",
     "output_type": "stream",
     "text": [
      "[34, 45, 67, 89]\n",
      "<class 'int'>\n",
      "<class 'float'>\n",
      "[34, 45.0, 67, 89]\n"
     ]
    }
   ],
   "source": [
    "# 10. Write code to demonstrate type casting with list elements\n",
    "\n",
    "number_list=[34,45,67,89]\n",
    "print(number_list)\n",
    "print(type(number_list[0]))\n",
    "number_list[1]=float(number_list[1])\n",
    "print(type(number_list[1]))             #converted int list element to float\n",
    "print(number_list)"
   ]
  },
  {
   "cell_type": "code",
   "execution_count": 52,
   "id": "457bf622-bfbc-4fca-8e9c-67e7736ea243",
   "metadata": {},
   "outputs": [
    {
     "name": "stdin",
     "output_type": "stream",
     "text": [
      "Enter a number -1\n"
     ]
    },
    {
     "name": "stdout",
     "output_type": "stream",
     "text": [
      "It is a negative number\n"
     ]
    }
   ],
   "source": [
    "# 11. Write a program that checks if a number is positive, negative, or zero.\n",
    "number=int(input(\"Enter a number\"))\n",
    "if number>0:\n",
    "        print(\"It is a positive number\")\n",
    "elif number<0:\n",
    "        print(\"It is a negative number\")\n",
    "else:\n",
    "        print(\"The number is zero\")"
   ]
  },
  {
   "cell_type": "code",
   "execution_count": 1,
   "id": "81bb9726-5c6b-48dd-9d17-2fe443e0b6be",
   "metadata": {},
   "outputs": [
    {
     "name": "stdout",
     "output_type": "stream",
     "text": [
      "1 2 3 4 5 6 7 8 9 10 "
     ]
    }
   ],
   "source": [
    "# 12 Write a for loop to print number from 1 to 10\n",
    "\n",
    "for i in range(1,11):\n",
    "    print(i, end=\" \")"
   ]
  },
  {
   "cell_type": "code",
   "execution_count": 18,
   "id": "c436313d-db24-41da-af53-1e3a0deb97ca",
   "metadata": {},
   "outputs": [
    {
     "name": "stdout",
     "output_type": "stream",
     "text": [
      "Sum of the even numbers: 650\n"
     ]
    }
   ],
   "source": [
    "#13 Write a Python program to find the sum of all even numbers between 1 and 50\n",
    "sum=0\n",
    "for i in range(1,51):\n",
    "    if i%2==0:      # check whether number is even or not\n",
    "        sum=sum+i\n",
    "        #print(i)\n",
    "print(\"Sum of the even numbers:\",sum)\n",
    "        "
   ]
  },
  {
   "cell_type": "code",
   "execution_count": 6,
   "id": "7c51441f-deb2-4a64-b01b-bb89d983a52a",
   "metadata": {},
   "outputs": [
    {
     "name": "stdout",
     "output_type": "stream",
     "text": [
      "Entered string: Welcome\n",
      "emocleW"
     ]
    }
   ],
   "source": [
    "# 14 Write a program to reverse a string using a while loop.\n",
    "str=\"Welcome\"\n",
    "rev=\"\"\n",
    "i=len(str)\n",
    "#print(i)\n",
    "print(\"Entered string:\",str)\n",
    "i=i-1       # string position start from 0th position\n",
    "while i>=0:\n",
    "    print(str[i], end=\"\")\n",
    "    i=i-1"
   ]
  },
  {
   "cell_type": "code",
   "execution_count": 5,
   "id": "8192862b-8972-434f-9ccf-dba4043bb6c6",
   "metadata": {},
   "outputs": [
    {
     "name": "stdin",
     "output_type": "stream",
     "text": [
      "Enter a number: 5\n"
     ]
    },
    {
     "name": "stdout",
     "output_type": "stream",
     "text": [
      "Factorial of the number is: 120\n"
     ]
    }
   ],
   "source": [
    "# 15. Write a Python program to calculate the factorial of a number provided by the user using a while loop\n",
    "\n",
    "no=int(input(\"Enter a number:\"))\n",
    "fact=1\n",
    "while no>0:\n",
    "    fact=fact*no\n",
    "    no=no-1\n",
    "print(\"Factorial of the number is:\",fact)"
   ]
  }
 ],
 "metadata": {
  "kernelspec": {
   "display_name": "Python 3 (ipykernel)",
   "language": "python",
   "name": "python3"
  },
  "language_info": {
   "codemirror_mode": {
    "name": "ipython",
    "version": 3
   },
   "file_extension": ".py",
   "mimetype": "text/x-python",
   "name": "python",
   "nbconvert_exporter": "python",
   "pygments_lexer": "ipython3",
   "version": "3.11.7"
  }
 },
 "nbformat": 4,
 "nbformat_minor": 5
}
